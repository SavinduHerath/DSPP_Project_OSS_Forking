{
 "cells": [
  {
   "cell_type": "code",
   "execution_count": null,
   "id": "f298e3e3-6d75-4d69-a64a-4ad8dba3a8eb",
   "metadata": {},
   "outputs": [],
   "source": [
    "# Open Anaconda Prompt and create a new environment\n",
    "#conda create --name nlp_env python=3.9\n",
    "#conda activate nlp_env\n",
    "\n",
    "# Install necessary packages\n",
    "#conda install -c conda-forge spacy\n",
    "#pip install pydantic\n",
    "#conda install pandas\n",
    "\n",
    "# Download Spacy model\n",
    "#python -m spacy download en_core_web_sm"
   ]
  },
  {
   "cell_type": "markdown",
   "id": "3db3b307-d3d9-487a-92fc-39569f598670",
   "metadata": {},
   "source": [
    "# Import Libraries"
   ]
  },
  {
   "cell_type": "code",
   "execution_count": 2,
   "id": "cdb572ac-2b30-4e15-83d3-98f8f03d3e91",
   "metadata": {},
   "outputs": [],
   "source": [
    "import pandas as pd\n",
    "import re\n",
    "import spacy\n",
    "from collections import Counter\n",
    "import gensim\n",
    "import gensim.corpora as corpora\n",
    "import pyLDAvis.gensim_models as gensimvis\n",
    "import pyLDAvis\n",
    "import matplotlib.pyplot as plt"
   ]
  },
  {
   "cell_type": "markdown",
   "id": "0b8991d7-cba5-4149-9ddc-83a58a0d3fa3",
   "metadata": {},
   "source": [
    "# Definitions"
   ]
  },
  {
   "cell_type": "code",
   "execution_count": 45,
   "id": "bff098fe-0474-43ef-8e15-0406d52f906d",
   "metadata": {},
   "outputs": [],
   "source": [
    "# Load Spacy model\n",
    "nlp = spacy.load(\"en_core_web_sm\")\n",
    "\n",
    "# Add \"not\" to the stop words list\n",
    "nlp.Defaults.stop_words.add(\"not\")\n",
    "nlp.vocab[\"not\"].is_stop = True\n",
    "\n",
    "# Coordination terms\n",
    "coord_terms = [\"reuse\", \"copy\", \"clone\", \"common\", \"common developers\", \"license\", \"open source\", \"governance\", \"copyright\", \"open source software\", \"open-source\", \"cloning\", \"forking\", \"coordination\", \"collaboration\",\n",
    "               \"bitcoin\", \"btc\", \"bch\", \"bitcoin cash\"]\n",
    "\n",
    "# Read CSV file\n",
    "def read_csv(file_path):\n",
    "    df = pd.read_csv(file_path)\n",
    "    return df\n",
    "    \n",
    "# Preprocess text function\n",
    "def preprocess_text(text):\n",
    "    text = text.lower()\n",
    "    text = re.sub(r\"http\\S+\", \"\", text)  # Remove URLs\n",
    "    text = re.sub(r\"[^\\w\\s]\", \"\", text)  # Remove special characters\n",
    "    text = re.sub(r\"[\\r\\n]\", \"\", text)    # Remove \\r\\n characters\n",
    "    text = re.sub(r\"\\s+\", \" \", text).strip()  # Remove extra spaces\n",
    "    return text\n",
    "\n",
    "# Function to preprocess the comments in the DataFrame\n",
    "def preprocess_dataframe(df):\n",
    "    \n",
    "    # Preprocess the comments\n",
    "    df['preprocessed_comments'] = df['body'].dropna().apply(preprocess_text)\n",
    "    return df\n",
    "\n",
    "# Extract coordination terms function with lemmatization\n",
    "def extract_coordination_terms(text, coord_terms):\n",
    "    term_count = Counter()\n",
    "    doc = nlp(text)\n",
    "    lemmas = [token.lemma_ for token in doc]\n",
    "    for lemma in lemmas:\n",
    "        if lemma in coord_terms:\n",
    "            term_count[lemma] += 1\n",
    "    return term_count\n",
    "\n",
    "# Function to get top comments based on keyword matches\n",
    "def get_top_comments(preprocessed_df, coord_terms, top_n=5):\n",
    "    # Initialize a list to store the comment and its keyword match count\n",
    "    comments_with_matches = []\n",
    "    \n",
    "    for index, comment in preprocessed_df['preprocessed_comments'].items():\n",
    "        terms = extract_coordination_terms(comment, coord_terms)\n",
    "        total_matches = sum(terms.values())\n",
    "        \n",
    "        # Append the comment, index and total matches to the list\n",
    "        comments_with_matches.append((index, preprocessed_df['preprocessed_comments'][index], total_matches))\n",
    "    \n",
    "    # Sort the list by total matches in descending order and get the top N comments\n",
    "    top_comments = sorted(comments_with_matches, key=lambda x: x[2], reverse=True)[:top_n]\n",
    "    \n",
    "    return top_comments\n",
    "\n",
    "# Tokenize and lemmatize the comments\n",
    "def tokenize_and_lemmatize(text):\n",
    "    doc = nlp(text)\n",
    "    tokens = [token.lemma_ for token in doc if not token.is_stop and not token.is_punct and token.lemma_ != 'not']\n",
    "    return tokens\n",
    "\n",
    "# Function to prepare data for LDA\n",
    "def prepare_lda_data(texts):\n",
    "    data_words = [tokenize_and_lemmatize(text) for text in texts]\n",
    "    id2word = corpora.Dictionary(data_words)\n",
    "    corpus = [id2word.doc2bow(text) for text in data_words]\n",
    "    return id2word, corpus, data_words\n",
    "\n",
    "# Function to perform LDA and visualize the topics\n",
    "def perform_lda(id2word, corpus, num_topics=5):\n",
    "    lda_model = gensim.models.ldamodel.LdaModel(corpus=corpus,\n",
    "                                                id2word=id2word,\n",
    "                                                num_topics=num_topics, \n",
    "                                                random_state=100,\n",
    "                                                update_every=1,\n",
    "                                                chunksize=10,\n",
    "                                                passes=10,\n",
    "                                                alpha='auto',\n",
    "                                                per_word_topics=True)\n",
    "    return lda_model\n",
    "\n",
    "# Visualize the topics\n",
    "def visualize_topics(lda_model, corpus, id2word):\n",
    "    vis = gensimvis.prepare(lda_model, corpus, id2word)\n",
    "    pyLDAvis.display(vis)\n",
    "    pyLDAvis.save_html(vis, 'lda_topics.html')"
   ]
  },
  {
   "cell_type": "markdown",
   "id": "13c0138d-0f20-4375-b1f9-6c5c07ac8b4d",
   "metadata": {},
   "source": [
    "# Bitcoin Cash (BCH) Analysis"
   ]
  },
  {
   "cell_type": "code",
   "execution_count": 4,
   "id": "d09df4a0-0baa-447e-af4c-0d0cc367f405",
   "metadata": {},
   "outputs": [],
   "source": [
    "# File read\n",
    "file_path = 'interesting_comments_bitcoin-abc.csv'\n",
    "df = read_csv(file_path)"
   ]
  },
  {
   "cell_type": "code",
   "execution_count": 5,
   "id": "c2084097-f6c5-4e72-a329-cdf35098a986",
   "metadata": {},
   "outputs": [
    {
     "name": "stdout",
     "output_type": "stream",
     "text": [
      "(39, 5)\n"
     ]
    },
    {
     "data": {
      "text/html": [
       "<div>\n",
       "<style scoped>\n",
       "    .dataframe tbody tr th:only-of-type {\n",
       "        vertical-align: middle;\n",
       "    }\n",
       "\n",
       "    .dataframe tbody tr th {\n",
       "        vertical-align: top;\n",
       "    }\n",
       "\n",
       "    .dataframe thead th {\n",
       "        text-align: right;\n",
       "    }\n",
       "</style>\n",
       "<table border=\"1\" class=\"dataframe\">\n",
       "  <thead>\n",
       "    <tr style=\"text-align: right;\">\n",
       "      <th></th>\n",
       "      <th>body</th>\n",
       "      <th>keywords</th>\n",
       "    </tr>\n",
       "  </thead>\n",
       "  <tbody>\n",
       "    <tr>\n",
       "      <th>0</th>\n",
       "      <td>GA is used for minimal usage data collection a...</td>\n",
       "      <td>open source</td>\n",
       "    </tr>\n",
       "    <tr>\n",
       "      <th>1</th>\n",
       "      <td>same error here..\\r\\r\\nstarted with a fresh gi...</td>\n",
       "      <td>reuse</td>\n",
       "    </tr>\n",
       "    <tr>\n",
       "      <th>2</th>\n",
       "      <td>GA is used for minimal usage data collection a...</td>\n",
       "      <td>open source</td>\n",
       "    </tr>\n",
       "    <tr>\n",
       "      <th>3</th>\n",
       "      <td>same error here..\\r\\r\\nstarted with a fresh gi...</td>\n",
       "      <td>reuse</td>\n",
       "    </tr>\n",
       "    <tr>\n",
       "      <th>4</th>\n",
       "      <td>@jasonbcox \\r\\r\\n\\r\\r\\n```\\r\\r\\nlsb_release -a...</td>\n",
       "      <td>copy,license</td>\n",
       "    </tr>\n",
       "  </tbody>\n",
       "</table>\n",
       "</div>"
      ],
      "text/plain": [
       "                                                body      keywords\n",
       "0  GA is used for minimal usage data collection a...   open source\n",
       "1  same error here..\\r\\r\\nstarted with a fresh gi...         reuse\n",
       "2  GA is used for minimal usage data collection a...   open source\n",
       "3  same error here..\\r\\r\\nstarted with a fresh gi...         reuse\n",
       "4  @jasonbcox \\r\\r\\n\\r\\r\\n```\\r\\r\\nlsb_release -a...  copy,license"
      ]
     },
     "execution_count": 5,
     "metadata": {},
     "output_type": "execute_result"
    }
   ],
   "source": [
    "print(df.shape)\n",
    "df[['body', 'keywords']].head()"
   ]
  },
  {
   "cell_type": "code",
   "execution_count": 46,
   "id": "cb935e45-6bd8-4e0d-b76b-e33d1d1e31f4",
   "metadata": {},
   "outputs": [
    {
     "data": {
      "text/html": [
       "<div>\n",
       "<style scoped>\n",
       "    .dataframe tbody tr th:only-of-type {\n",
       "        vertical-align: middle;\n",
       "    }\n",
       "\n",
       "    .dataframe tbody tr th {\n",
       "        vertical-align: top;\n",
       "    }\n",
       "\n",
       "    .dataframe thead th {\n",
       "        text-align: right;\n",
       "    }\n",
       "</style>\n",
       "<table border=\"1\" class=\"dataframe\">\n",
       "  <thead>\n",
       "    <tr style=\"text-align: right;\">\n",
       "      <th></th>\n",
       "      <th>Unnamed: 0</th>\n",
       "      <th>created_at</th>\n",
       "      <th>body</th>\n",
       "      <th>developer</th>\n",
       "      <th>keywords</th>\n",
       "      <th>preprocessed_comments</th>\n",
       "    </tr>\n",
       "  </thead>\n",
       "  <tbody>\n",
       "    <tr>\n",
       "      <th>0</th>\n",
       "      <td>46</td>\n",
       "      <td>2022-08-31T19:19:39Z</td>\n",
       "      <td>GA is used for minimal usage data collection a...</td>\n",
       "      <td>BytesOfMan</td>\n",
       "      <td>open source</td>\n",
       "      <td>ga is used for minimal usage data collection a...</td>\n",
       "    </tr>\n",
       "    <tr>\n",
       "      <th>1</th>\n",
       "      <td>235</td>\n",
       "      <td>2020-10-23T13:55:36Z</td>\n",
       "      <td>same error here..\\r\\r\\nstarted with a fresh gi...</td>\n",
       "      <td>M8BWNN</td>\n",
       "      <td>reuse</td>\n",
       "      <td>same error herestarted with a fresh git clone ...</td>\n",
       "    </tr>\n",
       "    <tr>\n",
       "      <th>2</th>\n",
       "      <td>295</td>\n",
       "      <td>2022-08-31T19:19:39Z</td>\n",
       "      <td>GA is used for minimal usage data collection a...</td>\n",
       "      <td>BytesOfMan</td>\n",
       "      <td>open source</td>\n",
       "      <td>ga is used for minimal usage data collection a...</td>\n",
       "    </tr>\n",
       "    <tr>\n",
       "      <th>3</th>\n",
       "      <td>484</td>\n",
       "      <td>2020-10-23T13:55:36Z</td>\n",
       "      <td>same error here..\\r\\r\\nstarted with a fresh gi...</td>\n",
       "      <td>M8BWNN</td>\n",
       "      <td>reuse</td>\n",
       "      <td>same error herestarted with a fresh git clone ...</td>\n",
       "    </tr>\n",
       "    <tr>\n",
       "      <th>4</th>\n",
       "      <td>614</td>\n",
       "      <td>2019-12-19T10:10:07Z</td>\n",
       "      <td>@jasonbcox \\r\\r\\n\\r\\r\\n```\\r\\r\\nlsb_release -a...</td>\n",
       "      <td>gituser</td>\n",
       "      <td>copy,license</td>\n",
       "      <td>jasonbcox lsb_release ano lsb modules are avai...</td>\n",
       "    </tr>\n",
       "  </tbody>\n",
       "</table>\n",
       "</div>"
      ],
      "text/plain": [
       "   Unnamed: 0            created_at  \\\n",
       "0          46  2022-08-31T19:19:39Z   \n",
       "1         235  2020-10-23T13:55:36Z   \n",
       "2         295  2022-08-31T19:19:39Z   \n",
       "3         484  2020-10-23T13:55:36Z   \n",
       "4         614  2019-12-19T10:10:07Z   \n",
       "\n",
       "                                                body   developer  \\\n",
       "0  GA is used for minimal usage data collection a...  BytesOfMan   \n",
       "1  same error here..\\r\\r\\nstarted with a fresh gi...      M8BWNN   \n",
       "2  GA is used for minimal usage data collection a...  BytesOfMan   \n",
       "3  same error here..\\r\\r\\nstarted with a fresh gi...      M8BWNN   \n",
       "4  @jasonbcox \\r\\r\\n\\r\\r\\n```\\r\\r\\nlsb_release -a...     gituser   \n",
       "\n",
       "       keywords                              preprocessed_comments  \n",
       "0   open source  ga is used for minimal usage data collection a...  \n",
       "1         reuse  same error herestarted with a fresh git clone ...  \n",
       "2   open source  ga is used for minimal usage data collection a...  \n",
       "3         reuse  same error herestarted with a fresh git clone ...  \n",
       "4  copy,license  jasonbcox lsb_release ano lsb modules are avai...  "
      ]
     },
     "execution_count": 46,
     "metadata": {},
     "output_type": "execute_result"
    }
   ],
   "source": [
    "preprocessed_df = preprocess_dataframe(df)\n",
    "preprocessed_df.head()"
   ]
  },
  {
   "cell_type": "markdown",
   "id": "05adae77-cd04-4967-89b4-04feed875fa6",
   "metadata": {},
   "source": [
    "# Keyword Matching"
   ]
  },
  {
   "cell_type": "code",
   "execution_count": 47,
   "id": "a935961d-b0a3-464a-880a-32397b424812",
   "metadata": {},
   "outputs": [
    {
     "name": "stdout",
     "output_type": "stream",
     "text": [
      "Counter({'bitcoin': 30, 'license': 16, 'copyright': 16, 'copy': 7, 'bch': 4, 'btc': 3, 'clone': 2, 'governance': 1, 'coordination': 1})\n"
     ]
    }
   ],
   "source": [
    "# Lemmatized keyword matching\n",
    "coordination_terms_count = Counter()\n",
    "for comment in preprocessed_df['preprocessed_comments']:\n",
    "    #processed_text = preprocess_text(comment)\n",
    "    terms = extract_coordination_terms(comment, coord_terms)\n",
    "    coordination_terms_count.update(terms)\n",
    "\n",
    "print(coordination_terms_count)"
   ]
  },
  {
   "cell_type": "code",
   "execution_count": 48,
   "id": "9abdb309-0299-446f-b28a-782ec8ccf6bf",
   "metadata": {},
   "outputs": [
    {
     "name": "stdout",
     "output_type": "stream",
     "text": [
      "Comment Index: 18\n",
      "Comment: whether it applies to a nonentity or not is a more esoteric question and im not a lawyer however regardless of the legal implications of a copyright stamp the license says basically you can use my stuff as long as you keep that little thing up there it does not say as long as that little thing up there is legally sound so the legality of the stamp and the requirements to keep it are completely separate concernssatoshi appears to have called him a bitcoin developer thats what he wrote personally and no one is allowed to change it the core team called themselves the bitcoin core developers and they claimed copyright from 2009 onwards and no one is allowed to change it if the 2009 is challenged in court and loses doesnt matter thats what they wrote and a condition of the license they gave us is that we dont change itnow your question does apply to the bitcoin abc developers since we are editing this and we have copyright ownership of our contributions however every person represented by that stamp anyone who contributed to bitcoin abc under the current license needs to sign off on a change this is why clas are often nice of course we could add another one say start a nonprofit foundation and place the foundations name therepersonally i would be proud to see the mark that satoshi left representing himself put back on the code he wrote that we are using i dont care what it says or whether it has any legal meaning he had 1 freaking simple condition for us to be able to use his code and we couldnt even comply with that\n",
      "Keyword Matches: 10\n",
      "\n",
      "Comment Index: 6\n",
      "Comment: hi c0deright i contribute to the bitcoin core project which is the reference implementation of the bitcoin protocol despite the confusing naming this project bitcoinabc and protocol bitcoin cash have nothing to do with bitcointhe code in the commit that you reference is indeed taken from a contribution of mine to bitcoin core here however the backport was misapplied despite the comment being include blockchain contextual information confirmations and blocktime is not available to code in bitcoincommon so we query them here and push the data into the returned univalue the code to do that wasntthe bitcoin cash maintainers are of course permitted to use my code fully or partially since it is licensed under the mit license that license states the software is provided as is without warranty of any kind express or implied in no event shall the authors or copyright holders be liable for any claim damages or other liability neither i nor the bitcoinabc maintainers are the cause of your showstopperfeel free to contribute a pr to bitcoinabc fix this bug or not i dont really care but please dont summon me to this project again thanks\n",
      "Keyword Matches: 9\n",
      "\n",
      "Comment Index: 11\n",
      "Comment: i had not realized i posted bcashcli as i simply copy and pasted the output from my linux terminal renamed all the bitcoin abc binaries because it was absolutely required to specify a different name other than bitcoin in order to prevent conflicts between running bitcoin and bitcoin cash full node on the same server even after creating individual linux subuser accounts to further separate and organize they still wouldnt play nice with each other _sibling rivalry at its worst_ by sharing usrbin usrlocalbin etc so my choices where bitcoincash or bcash i am not lazy as i can type incredibly fast just prefer shorter names and names that will not confuse me if there is another way to resolve the issue ive not stumbled across it perhaps a virtual machine setup but that would be a lot of effort and overkill funny how i read an article today that stated how some take offense to referring to bitcoin cash as bcash and some love it because it breaks the ties with the original bitcoin forkanyways i wrote that entire paragraph to hopefully create a few laughs but most importantly on a serious note i meant no offense by posting bcashcli if any offense was taken my sincerest apologiesthanks for your contribution to the project\n",
      "Keyword Matches: 7\n",
      "\n",
      "Comment Index: 35\n",
      "Comment: i still dont think you understandi run an exchange we ask the user to give us their btc or bch address on a withdrawal form whatever they type in is up to them but we have had some users inputting the btc address in the bch withdrawal form same goes for the bch address in the btc withdrawal form how do i validate this thenand it goes for the fundings as well my qr codes are properly prefixed but some users send us coins from other exchanges and copypaste the address i give themdo you understand\n",
      "Keyword Matches: 6\n",
      "\n",
      "Comment Index: 17\n",
      "Comment: i agree with this change although i am not sure if the core copyright should start at 2009 the core rebrand happened in 2013 also i wonder if copyright by an entity that is not a legal entity without copyright assignment agreements is even a good way to do this for example bitcoin core is a different group now they removed developers the copyright of their contributed code still belongs to those developers yet they are not credited you seem to have knowledge about this care to elaborate\n",
      "Keyword Matches: 5\n",
      "\n"
     ]
    }
   ],
   "source": [
    "top_comments = get_top_comments(preprocessed_df, coord_terms, top_n=5)\n",
    "\n",
    "for index, comment, matches in top_comments:\n",
    "    print(f\"Comment Index: {index}\\nComment: {comment}\\nKeyword Matches: {matches}\\n\")"
   ]
  },
  {
   "cell_type": "markdown",
   "id": "5a74bb88-e242-4649-8df5-659ca83e301d",
   "metadata": {},
   "source": [
    "# Topic Modelling - BCH"
   ]
  },
  {
   "cell_type": "code",
   "execution_count": 53,
   "id": "24a1a262-73b1-4946-8543-80b294f88dc0",
   "metadata": {},
   "outputs": [
    {
     "name": "stdout",
     "output_type": "stream",
     "text": [
      "(0, '0.013*\"bitcoin\" + 0.010*\"code\" + 0.008*\"copyright\" + 0.007*\"license\" + 0.007*\"fix\" + 0.007*\"core\" + 0.007*\"user\" + 0.007*\"change\" + 0.006*\"release\" + 0.006*\"need\"')\n",
      "(1, '0.097*\"test\" + 0.096*\"perform\" + 0.047*\"look\" + 0.040*\"success\" + 0.036*\"find\" + 0.011*\"include\" + 0.010*\"file\" + 0.009*\"fail\" + 0.008*\"compiler\" + 0.006*\"c\"')\n"
     ]
    }
   ],
   "source": [
    "# Prepare LDA data\n",
    "id2word, corpus, data_words = prepare_lda_data(preprocessed_df['preprocessed_comments'])\n",
    "\n",
    "# Perform LDA\n",
    "lda_model = perform_lda(id2word, corpus, num_topics=2)\n",
    "\n",
    "# Print the topics\n",
    "topics = lda_model.print_topics(num_words=10)\n",
    "for topic in topics:\n",
    "    print(topic)\n",
    "\n",
    "# Visualize the topics\n",
    "visualize_topics(lda_model, corpus, id2word)"
   ]
  },
  {
   "cell_type": "markdown",
   "id": "1ca7455c-1f50-4a59-9512-85f6b58ca331",
   "metadata": {},
   "source": [
    "# Bitcoin (BTC) Analysis"
   ]
  },
  {
   "cell_type": "code",
   "execution_count": 9,
   "id": "9ad0783e-df57-4adc-8b36-f550672ad9fc",
   "metadata": {},
   "outputs": [
    {
     "name": "stdout",
     "output_type": "stream",
     "text": [
      "(3312, 5)\n"
     ]
    },
    {
     "data": {
      "text/html": [
       "<div>\n",
       "<style scoped>\n",
       "    .dataframe tbody tr th:only-of-type {\n",
       "        vertical-align: middle;\n",
       "    }\n",
       "\n",
       "    .dataframe tbody tr th {\n",
       "        vertical-align: top;\n",
       "    }\n",
       "\n",
       "    .dataframe thead th {\n",
       "        text-align: right;\n",
       "    }\n",
       "</style>\n",
       "<table border=\"1\" class=\"dataframe\">\n",
       "  <thead>\n",
       "    <tr style=\"text-align: right;\">\n",
       "      <th></th>\n",
       "      <th>body</th>\n",
       "      <th>keywords</th>\n",
       "    </tr>\n",
       "  </thead>\n",
       "  <tbody>\n",
       "    <tr>\n",
       "      <th>0</th>\n",
       "      <td>&gt; but we're changing all the types now so migh...</td>\n",
       "      <td>stuff</td>\n",
       "    </tr>\n",
       "    <tr>\n",
       "      <th>1</th>\n",
       "      <td>It would be good for the PR description to out...</td>\n",
       "      <td>copy</td>\n",
       "    </tr>\n",
       "    <tr>\n",
       "      <th>2</th>\n",
       "      <td>Thanks, @1440000bytes for your review. Interes...</td>\n",
       "      <td>stuff</td>\n",
       "    </tr>\n",
       "    <tr>\n",
       "      <th>3</th>\n",
       "      <td>This error affected my btcpay server apparentl...</td>\n",
       "      <td>copy</td>\n",
       "    </tr>\n",
       "    <tr>\n",
       "      <th>4</th>\n",
       "      <td>&gt; I don't see how reimplementing BDB is better...</td>\n",
       "      <td>stuff</td>\n",
       "    </tr>\n",
       "  </tbody>\n",
       "</table>\n",
       "</div>"
      ],
      "text/plain": [
       "                                                body keywords\n",
       "0  > but we're changing all the types now so migh...    stuff\n",
       "1  It would be good for the PR description to out...     copy\n",
       "2  Thanks, @1440000bytes for your review. Interes...    stuff\n",
       "3  This error affected my btcpay server apparentl...     copy\n",
       "4  > I don't see how reimplementing BDB is better...    stuff"
      ]
     },
     "execution_count": 9,
     "metadata": {},
     "output_type": "execute_result"
    }
   ],
   "source": [
    "# File read\n",
    "file_path_btc = 'interesting_comments_bitcoin.csv'\n",
    "btc_df = read_csv(file_path_btc)\n",
    "print(btc_df.shape)\n",
    "btc_df[['body', 'keywords']].head()"
   ]
  },
  {
   "cell_type": "code",
   "execution_count": 56,
   "id": "b3c272c4-e036-4203-8c63-19034b47f69d",
   "metadata": {},
   "outputs": [
    {
     "data": {
      "text/html": [
       "<div>\n",
       "<style scoped>\n",
       "    .dataframe tbody tr th:only-of-type {\n",
       "        vertical-align: middle;\n",
       "    }\n",
       "\n",
       "    .dataframe tbody tr th {\n",
       "        vertical-align: top;\n",
       "    }\n",
       "\n",
       "    .dataframe thead th {\n",
       "        text-align: right;\n",
       "    }\n",
       "</style>\n",
       "<table border=\"1\" class=\"dataframe\">\n",
       "  <thead>\n",
       "    <tr style=\"text-align: right;\">\n",
       "      <th></th>\n",
       "      <th>Unnamed: 0</th>\n",
       "      <th>created_at</th>\n",
       "      <th>body</th>\n",
       "      <th>developer</th>\n",
       "      <th>keywords</th>\n",
       "      <th>preprocessed_comments</th>\n",
       "    </tr>\n",
       "  </thead>\n",
       "  <tbody>\n",
       "    <tr>\n",
       "      <th>0</th>\n",
       "      <td>60</td>\n",
       "      <td>2022-12-07T15:33:53Z</td>\n",
       "      <td>&gt; but we're changing all the types now so migh...</td>\n",
       "      <td>LarryRuane</td>\n",
       "      <td>stuff</td>\n",
       "      <td>but were changing all the types now so might a...</td>\n",
       "    </tr>\n",
       "    <tr>\n",
       "      <th>1</th>\n",
       "      <td>104</td>\n",
       "      <td>2022-12-20T10:55:38Z</td>\n",
       "      <td>It would be good for the PR description to out...</td>\n",
       "      <td>fanquake</td>\n",
       "      <td>copy</td>\n",
       "      <td>it would be good for the pr description to out...</td>\n",
       "    </tr>\n",
       "    <tr>\n",
       "      <th>2</th>\n",
       "      <td>122</td>\n",
       "      <td>2022-12-01T13:55:30Z</td>\n",
       "      <td>Thanks, @1440000bytes for your review. Interes...</td>\n",
       "      <td>brunoerg</td>\n",
       "      <td>stuff</td>\n",
       "      <td>thanks 1440000bytes for your review interestin...</td>\n",
       "    </tr>\n",
       "    <tr>\n",
       "      <th>3</th>\n",
       "      <td>152</td>\n",
       "      <td>2022-12-11T00:41:12Z</td>\n",
       "      <td>This error affected my btcpay server apparentl...</td>\n",
       "      <td>cpleonardo</td>\n",
       "      <td>copy</td>\n",
       "      <td>this error affected my btcpay server apparentl...</td>\n",
       "    </tr>\n",
       "    <tr>\n",
       "      <th>4</th>\n",
       "      <td>183</td>\n",
       "      <td>2022-11-29T21:27:56Z</td>\n",
       "      <td>&gt; I don't see how reimplementing BDB is better...</td>\n",
       "      <td>achow101</td>\n",
       "      <td>stuff</td>\n",
       "      <td>i dont see how reimplementing bdb is better th...</td>\n",
       "    </tr>\n",
       "  </tbody>\n",
       "</table>\n",
       "</div>"
      ],
      "text/plain": [
       "   Unnamed: 0            created_at  \\\n",
       "0          60  2022-12-07T15:33:53Z   \n",
       "1         104  2022-12-20T10:55:38Z   \n",
       "2         122  2022-12-01T13:55:30Z   \n",
       "3         152  2022-12-11T00:41:12Z   \n",
       "4         183  2022-11-29T21:27:56Z   \n",
       "\n",
       "                                                body   developer keywords  \\\n",
       "0  > but we're changing all the types now so migh...  LarryRuane    stuff   \n",
       "1  It would be good for the PR description to out...    fanquake     copy   \n",
       "2  Thanks, @1440000bytes for your review. Interes...    brunoerg    stuff   \n",
       "3  This error affected my btcpay server apparentl...  cpleonardo     copy   \n",
       "4  > I don't see how reimplementing BDB is better...    achow101    stuff   \n",
       "\n",
       "                               preprocessed_comments  \n",
       "0  but were changing all the types now so might a...  \n",
       "1  it would be good for the pr description to out...  \n",
       "2  thanks 1440000bytes for your review interestin...  \n",
       "3  this error affected my btcpay server apparentl...  \n",
       "4  i dont see how reimplementing bdb is better th...  "
      ]
     },
     "execution_count": 56,
     "metadata": {},
     "output_type": "execute_result"
    }
   ],
   "source": [
    "preprocessed_btc_df = preprocess_dataframe(btc_df)\n",
    "preprocessed_btc_df.head()"
   ]
  },
  {
   "cell_type": "markdown",
   "id": "851e1bb8-3e73-482b-88e9-9b9a3ff301b6",
   "metadata": {},
   "source": [
    "# Keyword Matching"
   ]
  },
  {
   "cell_type": "code",
   "execution_count": 57,
   "id": "f1fbc322-0366-4a78-a567-56a7ea8522fe",
   "metadata": {},
   "outputs": [
    {
     "name": "stdout",
     "output_type": "stream",
     "text": [
      "Counter({'copy': 955, 'bitcoin': 872, 'reuse': 321, 'copyright': 290, 'license': 227, 'clone': 161, 'btc': 78, 'common': 54, 'coordination': 30, 'collaboration': 18, 'cloning': 6, 'forking': 5, 'governance': 1})\n"
     ]
    }
   ],
   "source": [
    "# Lemmatized keyword matching\n",
    "coordination_terms_count_btc = Counter()\n",
    "for comment in preprocessed_btc_df['preprocessed_comments']:\n",
    "    #processed_text = preprocess_text(comment)\n",
    "    terms = extract_coordination_terms(comment, coord_terms)\n",
    "    coordination_terms_count_btc.update(terms)\n",
    "\n",
    "print(coordination_terms_count_btc)"
   ]
  },
  {
   "cell_type": "code",
   "execution_count": 58,
   "id": "6dd10357-b14d-47a1-a167-02fcb9245d51",
   "metadata": {},
   "outputs": [],
   "source": [
    "top_comments_btc = get_top_comments(preprocessed_btc_df, coord_terms, top_n=5)\n",
    "\n",
    "#for index, comment, matches in top_comments_btc:\n",
    "#    print(f\"Comment Index: {index}\\nComment: {comment}\\nKeyword Matches: {matches}\\n\")"
   ]
  },
  {
   "cell_type": "code",
   "execution_count": 59,
   "id": "2da1da4e-cd9b-4b2c-be3b-fa8021a3c0b7",
   "metadata": {},
   "outputs": [
    {
     "name": "stdout",
     "output_type": "stream",
     "text": [
      "(0, '0.015*\"stuff\" + 0.007*\"copy\" + 0.007*\"need\" + 0.006*\"like\" + 0.006*\"change\" + 0.006*\"file\" + 0.005*\"code\" + 0.005*\"m\" + 0.005*\"add\" + 0.005*\"think\"')\n",
      "(1, '0.023*\"0\" + 0.014*\"0x0\" + 0.008*\"libsystembdylib\" + 0.004*\"const\" + 0.003*\"extradata\" + 0.003*\"superdata\" + 0.003*\"stringdata\" + 0.003*\"static\" + 0.003*\"void\" + 0.003*\"int\"')\n"
     ]
    }
   ],
   "source": [
    "# Prepare LDA data\n",
    "id2word_btc, corpus_btc, data_words_btc = prepare_lda_data(preprocessed_btc_df['preprocessed_comments'])\n",
    "\n",
    "# Perform LDA\n",
    "lda_model_btc = perform_lda(id2word_btc, corpus_btc, num_topics=2)\n",
    "\n",
    "# Print the topics\n",
    "topics_btc = lda_model_btc.print_topics(num_words=10)\n",
    "for topic in topics_btc:\n",
    "    print(topic)\n",
    "\n",
    "# Visualize the topics\n",
    "visualize_topics(lda_model_btc, corpus_btc, id2word_btc)"
   ]
  }
 ],
 "metadata": {
  "kernelspec": {
   "display_name": "Python 3 (ipykernel)",
   "language": "python",
   "name": "python3"
  },
  "language_info": {
   "codemirror_mode": {
    "name": "ipython",
    "version": 3
   },
   "file_extension": ".py",
   "mimetype": "text/x-python",
   "name": "python",
   "nbconvert_exporter": "python",
   "pygments_lexer": "ipython3",
   "version": "3.9.19"
  }
 },
 "nbformat": 4,
 "nbformat_minor": 5
}
